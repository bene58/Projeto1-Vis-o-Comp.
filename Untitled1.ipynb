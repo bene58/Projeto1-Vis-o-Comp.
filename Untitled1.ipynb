{
  "nbformat": 4,
  "nbformat_minor": 0,
  "metadata": {
    "colab": {
      "provenance": [],
      "include_colab_link": true
    },
    "kernelspec": {
      "name": "python3",
      "display_name": "Python 3"
    },
    "language_info": {
      "name": "python"
    }
  },
  "cells": [
    {
      "cell_type": "markdown",
      "metadata": {
        "id": "view-in-github",
        "colab_type": "text"
      },
      "source": [
        "<a href=\"https://colab.research.google.com/github/bene58/Projeto1-Visao-Comp./blob/main/Untitled1.ipynb\" target=\"_parent\"><img src=\"https://colab.research.google.com/assets/colab-badge.svg\" alt=\"Open In Colab\"/></a>"
      ]
    },
    {
      "cell_type": "code",
      "source": [
        "from google.colab import drive\n",
        "drive.mount('/content/drive')"
      ],
      "metadata": {
        "id": "Stus96Ebh8UW",
        "colab": {
          "base_uri": "https://localhost:8080/"
        },
        "outputId": "0c18818e-eac7-4c14-ab1f-9b1dbdcbb6c2"
      },
      "execution_count": null,
      "outputs": [
        {
          "output_type": "stream",
          "name": "stdout",
          "text": [
            "Mounted at /content/drive\n"
          ]
        }
      ]
    },
    {
      "cell_type": "code",
      "execution_count": null,
      "metadata": {
        "id": "rDae4j5Wvvul"
      },
      "outputs": [],
      "source": [
        "import os\n",
        "\n",
        "import numpy as np\n",
        "from skimage import util, transform, filters, color, measure, morphology, io, exposure\n",
        "from sklearn import model_selection, neighbors, metrics, preprocessing\n",
        "\n",
        "import matplotlib.pyplot as plt\n",
        "import seaborn as sns\n",
        "import pandas as pd\n",
        "\n",
        "### %matplotlib notebook\n",
        "%matplotlib inline"
      ]
    },
    {
      "cell_type": "code",
      "source": [
        "# 3 classes - 50 images in these classes\n",
        "ds_path = '/content/drive/MyDrive/Visão computacional/mpeg7_mod'\n",
        "\n",
        "# 3 classes - 6 images per class\n",
        "#### ds_path = 'data/flowers_toy2'"
      ],
      "metadata": {
        "id": "YkIcG0kNv-9Y"
      },
      "execution_count": null,
      "outputs": []
    },
    {
      "cell_type": "code",
      "source": [
        "# List of all folders in the folder 'ds_path' (classes)\n",
        "classes_list = os.listdir(ds_path)\n",
        "\n",
        "# List of all images in the dataset\n",
        "image_list = []\n",
        "# Lista of the image labels\n",
        "label_list = []\n",
        "\n",
        "# List of the image names\n",
        "filename_list_ = []\n",
        "\n",
        "# Iterate along the classes of the dataset\n",
        "for classe in classes_list:\n",
        "\n",
        "    # Listagem de todas as imagens na pasta daquela classe\n",
        "    filename_list = os.listdir(os.path.join(ds_path, classe))\n",
        "\n",
        "    filename_list.sort()\n",
        "\n",
        "    # Percorre os arquivos na pasta atual\n",
        "    for filename in filename_list:\n",
        "        # Load the image\n",
        "        img_temp = io.imread(os.path.join(ds_path, classe, filename))\n",
        "\n",
        "        # Redimensiona a imagem para 64 x 64\n",
        "        img_temp = transform.resize(img_temp, (64, 64), anti_aliasing=True)\n",
        "\n",
        "        # Append the image to a list\n",
        "        image_list.append(img_temp)\n",
        "        # Append the label to a list\n",
        "        label_list.append(classe)\n",
        "        # Append the file name to a list (para fins de visualização)\n",
        "        filename_list_.append(filename)\n"
      ],
      "metadata": {
        "id": "PZz1GBbwwEDm"
      },
      "execution_count": null,
      "outputs": []
    },
    {
      "cell_type": "code",
      "source": [
        "label_list = np.array(label_list)\n",
        "\n",
        "# Lista com os rótulos das imagens\n",
        "print(label_list)"
      ],
      "metadata": {
        "colab": {
          "base_uri": "https://localhost:8080/"
        },
        "id": "TFwsfV_20cNH",
        "outputId": "5beaee83-6add-4aad-a7c1-3582859bb316"
      },
      "execution_count": null,
      "outputs": [
        {
          "output_type": "stream",
          "name": "stdout",
          "text": [
            "['apple' 'apple' 'apple' 'apple' 'apple' 'apple' 'apple' 'apple' 'apple'\n",
            " 'apple' 'apple' 'apple' 'apple' 'apple' 'apple' 'apple' 'apple' 'apple'\n",
            " 'apple' 'apple' 'apple' 'apple' 'apple' 'apple' 'apple' 'apple' 'apple'\n",
            " 'apple' 'apple' 'apple' 'apple' 'apple' 'apple' 'apple' 'apple' 'apple'\n",
            " 'apple' 'apple' 'apple' 'apple' 'apple' 'apple' 'apple' 'apple' 'apple'\n",
            " 'apple' 'apple' 'apple' 'apple' 'apple' 'apple' 'apple' 'apple' 'apple'\n",
            " 'apple' 'apple' 'apple' 'apple' 'apple' 'apple' 'apple' 'apple' 'apple'\n",
            " 'apple' 'apple' 'apple' 'apple' 'apple' 'apple' 'apple' 'apple' 'apple'\n",
            " 'apple' 'apple' 'apple' 'apple' 'apple' 'apple' 'apple' 'apple' 'apple'\n",
            " 'apple' 'apple' 'apple' 'apple' 'apple' 'apple' 'apple' 'apple' 'apple'\n",
            " 'apple' 'apple' 'apple' 'apple' 'apple' 'apple' 'apple' 'apple' 'apple'\n",
            " 'apple' 'bird' 'bird' 'bird' 'bird' 'bird' 'bird' 'bird' 'bird' 'bird'\n",
            " 'bird' 'bird' 'bird' 'bird' 'bird' 'bird' 'bird' 'bird' 'bird' 'bird'\n",
            " 'bird' 'bird' 'bird' 'bird' 'bird' 'bird' 'bird' 'bird' 'bird' 'bird'\n",
            " 'bird' 'bird' 'bird' 'bird' 'bird' 'bird' 'bird' 'bird' 'bird' 'bird'\n",
            " 'bird' 'bird' 'bird' 'bird' 'bird' 'bird' 'bird' 'bird' 'bird' 'bird'\n",
            " 'bird' 'bird' 'bird' 'bird' 'bird' 'bird' 'bird' 'bird' 'bird' 'bird'\n",
            " 'bird' 'bird' 'bird' 'bird' 'bird' 'bird' 'bird' 'bird' 'bird' 'bird'\n",
            " 'bird' 'bird' 'bird' 'bird' 'bird' 'bird' 'bird' 'bird' 'bird' 'bird'\n",
            " 'bird' 'bird' 'bird' 'bird' 'bird' 'bird' 'bird' 'bird' 'bird' 'bird'\n",
            " 'bird' 'bird' 'bird' 'bird' 'bird' 'bird' 'bird' 'bird' 'bird' 'bird'\n",
            " 'bird' 'beetle' 'beetle' 'beetle' 'beetle' 'beetle' 'beetle' 'beetle'\n",
            " 'beetle' 'beetle' 'beetle' 'beetle' 'beetle' 'beetle' 'beetle' 'beetle'\n",
            " 'beetle' 'beetle' 'beetle' 'beetle' 'beetle' 'beetle' 'beetle' 'beetle'\n",
            " 'beetle' 'beetle' 'beetle' 'beetle' 'beetle' 'beetle' 'beetle' 'beetle'\n",
            " 'beetle' 'beetle' 'beetle' 'beetle' 'beetle' 'beetle' 'beetle' 'beetle'\n",
            " 'beetle' 'beetle' 'beetle' 'beetle' 'beetle' 'beetle' 'beetle' 'beetle'\n",
            " 'beetle' 'beetle' 'beetle' 'beetle' 'beetle' 'beetle' 'beetle' 'beetle'\n",
            " 'beetle' 'beetle' 'beetle' 'beetle' 'beetle' 'beetle' 'beetle' 'beetle'\n",
            " 'beetle' 'beetle' 'beetle' 'beetle' 'beetle' 'beetle' 'beetle' 'beetle'\n",
            " 'beetle' 'beetle' 'beetle' 'beetle' 'beetle' 'beetle' 'beetle' 'beetle'\n",
            " 'beetle' 'beetle' 'beetle' 'beetle' 'beetle' 'beetle' 'beetle' 'beetle'\n",
            " 'beetle' 'beetle' 'beetle' 'beetle' 'beetle' 'beetle' 'beetle' 'beetle'\n",
            " 'beetle' 'beetle' 'beetle' 'beetle' 'beetle' 'bat' 'bat' 'bat' 'bat'\n",
            " 'bat' 'bat' 'bat' 'bat' 'bat' 'bat' 'bat' 'bat' 'bat' 'bat' 'bat' 'bat'\n",
            " 'bat' 'bat' 'bat' 'bat' 'bat' 'bat' 'bat' 'bat' 'bat' 'bat' 'bat' 'bat'\n",
            " 'bat' 'bat' 'bat' 'bat' 'bat' 'bat' 'bat' 'bat' 'bat' 'bat' 'bat' 'bat'\n",
            " 'bat' 'bat' 'bat' 'bat' 'bat' 'bat' 'bat' 'bat' 'bat' 'bat' 'bat' 'bat'\n",
            " 'bat' 'bat' 'bat' 'bat' 'bat' 'bat' 'bat' 'bat' 'bat' 'bat' 'bat' 'bat'\n",
            " 'bat' 'bat' 'bat' 'bat' 'bat' 'bat' 'bat' 'bat' 'bat' 'bat' 'bat' 'bat'\n",
            " 'bat' 'bat' 'bat' 'bat' 'bat' 'bat' 'bat' 'bat' 'bat' 'bat' 'bat' 'bat'\n",
            " 'bat' 'bat' 'bat' 'bat' 'bat' 'bat' 'bat' 'bat' 'bat' 'bat' 'bat' 'bat'\n",
            " 'bone' 'bone' 'bone' 'bone' 'bone' 'bone' 'bone' 'bone' 'bone' 'bone'\n",
            " 'bone' 'bone' 'bone' 'bone' 'bone' 'bone' 'bone' 'bone' 'bone' 'bone'\n",
            " 'bone' 'bone' 'bone' 'bone' 'bone' 'bone' 'bone' 'bone' 'bone' 'bone'\n",
            " 'bone' 'bone' 'bone' 'bone' 'bone' 'bone' 'bone' 'bone' 'bone' 'bone'\n",
            " 'bone' 'bone' 'bone' 'bone' 'bone' 'bone' 'bone' 'bone' 'bone' 'bone'\n",
            " 'bone' 'bone' 'bone' 'bone' 'bone' 'bone' 'bone' 'bone' 'bone' 'bone'\n",
            " 'bone' 'bone' 'bone' 'bone' 'bone' 'bone' 'bone' 'bone' 'bone' 'bone'\n",
            " 'bone' 'bone' 'bone' 'bone' 'bone' 'bone' 'bone' 'bone' 'bone' 'bone'\n",
            " 'bone' 'bone' 'bone' 'bone' 'bone' 'bone' 'bone' 'bone' 'bone' 'bone'\n",
            " 'bone' 'bone' 'bone' 'bone' 'bone' 'bone' 'bone' 'bone' 'bone' 'bone'\n",
            " 'bell' 'bell' 'bell' 'bell' 'bell' 'bell' 'bell' 'bell' 'bell' 'bell'\n",
            " 'bell' 'bell' 'bell' 'bell' 'bell' 'bell' 'bell' 'bell' 'bell' 'bell'\n",
            " 'bell' 'bell' 'bell' 'bell' 'bell' 'bell' 'bell' 'bell' 'bell' 'bell'\n",
            " 'bell' 'bell' 'bell' 'bell' 'bell' 'bell' 'bell' 'bell' 'bell' 'bell'\n",
            " 'bell' 'bell' 'bell' 'bell' 'bell' 'bell' 'bell' 'bell' 'bell' 'bell'\n",
            " 'bell' 'bell' 'bell' 'bell' 'bell' 'bell' 'bell' 'bell' 'bell' 'bell'\n",
            " 'bell' 'bell' 'bell' 'bell' 'bell' 'bell' 'bell' 'bell' 'bell' 'bell'\n",
            " 'bell' 'bell' 'bell' 'bell' 'bell' 'bell' 'bell' 'bell' 'bell' 'bell'\n",
            " 'bell' 'bell' 'bell' 'bell' 'bell' 'bell' 'bell' 'bell' 'bell' 'bell'\n",
            " 'bell' 'bell' 'bell' 'bell' 'bell' 'bell' 'bell' 'bell' 'bell' 'bell']\n"
          ]
        }
      ]
    },
    {
      "cell_type": "markdown",
      "source": [
        "Plotting the dataset Images"
      ],
      "metadata": {
        "id": "Rv5WLXJX0nMm"
      }
    },
    {
      "cell_type": "code",
      "source": [
        "# Seleciona apenas as primeiras N imagens de cada classe\n",
        "image_list_temp = []\n",
        "filename_list_temp = []\n",
        "\n",
        "# Itera pelo número de classes\n",
        "for i in range(6):\n",
        "    print(i, classes_list[i])\n",
        "    # As 6 primeiras ocorrencias em que label é igual a 'i'.\n",
        "    image_list_temp += [image_list[j] for j in np.where(label_list==classes_list[i])[0][:6]]\n",
        "    filename_list_temp += [filename_list_[j] for j in np.where(label_list==classes_list[i])[0][:6]]"
      ],
      "metadata": {
        "colab": {
          "base_uri": "https://localhost:8080/"
        },
        "id": "v2jsCCsQ0qim",
        "outputId": "4f5e2860-6de6-420f-e3da-d1599300c8a7"
      },
      "execution_count": null,
      "outputs": [
        {
          "output_type": "stream",
          "name": "stdout",
          "text": [
            "0 apple\n",
            "1 bird\n",
            "2 beetle\n",
            "3 bat\n",
            "4 bone\n",
            "5 bell\n"
          ]
        }
      ]
    },
    {
      "cell_type": "code",
      "source": [
        "fig, ax  = plt.subplots(10, 10, figsize=(15, 15))\n",
        "\n",
        "for i, (image, filename) in enumerate(zip(image_list_temp, filename_list_temp)):\n",
        "    ax[i//10, i%10].imshow(image, vmin=0, vmax=255)\n",
        "    ax[i//10, i%10].set_title(str(filename), fontsize=8)\n",
        "    ax[i//10, i%10].axis('off')\n",
        "\n",
        "fig.tight_layout()\n",
        "plt.show()"
      ],
      "metadata": {
        "colab": {
          "base_uri": "https://localhost:8080/",
          "height": 1000
        },
        "id": "HQ1w0J2401qG",
        "outputId": "17b76920-e731-4f6d-9742-0dcebd32e7b4"
      },
      "execution_count": null,
      "outputs": [
        {
          "output_type": "display_data",
          "data": {
            "text/plain": [
              "<Figure size 1500x1500 with 100 Axes>"
            ],
            "image/png": "[encoded data removed]"
          },
          "metadata": {}
        }
      ]
    },
    {
      "cell_type": "markdown",
      "source": [
        "Extracting some color based features from images"
      ],
      "metadata": {
        "id": "_7yGboyA1dP3"
      }
    },
    {
      "cell_type": "code",
      "source": [
        "import numpy as np\n",
        "from skimage import exposure\n",
        "from skimage import img_as_float  # Se necessário\n",
        "\n",
        "# 2D array with the images features\n",
        "# Each line stores information about an image. Each column stores one feature.\n",
        "feature_mat = []\n",
        "\n",
        "# Number of histogram bins\n",
        "n_bins = 32\n",
        "\n",
        "for i, (image, label) in enumerate(zip(image_list, label_list)):\n",
        "    # DEBUG\n",
        "    print(f'Imagem {i} - classe {label}')\n",
        "\n",
        "    # Convert the image data type to float if necessary\n",
        "    img_float = img_as_float(image)  # Uncomment this if needed (for range [0, 1])\n",
        "\n",
        "    # Check if the image has 3 channels (RGB)\n",
        "    if img_float.ndim == 3 and img_float.shape[2] == 3:\n",
        "        # Compute the histogram for each channel (R, G, B)\n",
        "        hist_r = np.histogram(img_float[:,:,0], bins=n_bins, range=(0, 1))[0]\n",
        "        hist_g = np.histogram(img_float[:,:,1], bins=n_bins, range=(0, 1))[0]\n",
        "        hist_b = np.histogram(img_float[:,:,2], bins=n_bins, range=(0, 1))[0]\n",
        "\n",
        "        # Normalize the histograms (optional but helps for machine learning models)\n",
        "        hist_r = hist_r / np.sum(hist_r)\n",
        "        hist_g = hist_g / np.sum(hist_g)\n",
        "        hist_b = hist_b / np.sum(hist_b)\n",
        "\n",
        "        # Concatenate the histograms into one single feature vector\n",
        "        feat_hist = np.concatenate((hist_r, hist_g, hist_b))\n",
        "\n",
        "    elif img_float.ndim == 2:  # If the image is grayscale (2D)\n",
        "        # Compute the histogram for the single channel (grayscale)\n",
        "        hist = np.histogram(img_float, bins=n_bins, range=(0, 1))[0]\n",
        "\n",
        "        # Normalize the histogram (optional but helps for machine learning models)\n",
        "        hist = hist / np.sum(hist)\n",
        "\n",
        "        # Concatenate the histogram (only one channel in grayscale)\n",
        "        feat_hist = hist\n",
        "\n",
        "    else:\n",
        "        print(f\"Imagem {i} tem um formato desconhecido (dimensão {img_float.ndim}).\")\n",
        "        continue  # Skip images with unexpected format\n",
        "\n",
        "    # Append the feature vector to the feature matrix\n",
        "    feature_mat.append(feat_hist)\n",
        "\n",
        "# Convert feature matrix to numpy array for easier manipulation later\n",
        "feature_mat = np.array(feature_mat)\n"
      ],
      "metadata": {
        "colab": {
          "base_uri": "https://localhost:8080/"
        },
        "id": "tboO2Po71eOm",
        "outputId": "2281ad1d-b317-4e74-cb73-651499f93292"
      },
      "execution_count": null,
      "outputs": [
        {
          "output_type": "stream",
          "name": "stdout",
          "text": [
            "Imagem 0 - classe apple\n",
            "Imagem 1 - classe apple\n",
            "Imagem 2 - classe apple\n",
            "Imagem 3 - classe apple\n",
            "Imagem 4 - classe apple\n",
            "Imagem 5 - classe apple\n",
            "Imagem 6 - classe apple\n",
            "Imagem 7 - classe apple\n",
            "Imagem 8 - classe apple\n",
            "Imagem 9 - classe apple\n",
            "Imagem 10 - classe apple\n",
            "Imagem 11 - classe apple\n",
            "Imagem 12 - classe apple\n",
            "Imagem 13 - classe apple\n",
            "Imagem 14 - classe apple\n",
            "Imagem 15 - classe apple\n",
            "Imagem 16 - classe apple\n",
            "Imagem 17 - classe apple\n",
            "Imagem 18 - classe apple\n",
            "Imagem 19 - classe apple\n",
            "Imagem 20 - classe apple\n",
            "Imagem 21 - classe apple\n",
            "Imagem 22 - classe apple\n",
            "Imagem 23 - classe apple\n",
            "Imagem 24 - classe apple\n",
            "Imagem 25 - classe apple\n",
            "Imagem 26 - classe apple\n",
            "Imagem 27 - classe apple\n",
            "Imagem 28 - classe apple\n",
            "Imagem 29 - classe apple\n",
            "Imagem 30 - classe apple\n",
            "Imagem 31 - classe apple\n",
            "Imagem 32 - classe apple\n",
            "Imagem 33 - classe apple\n",
            "Imagem 34 - classe apple\n",
            "Imagem 35 - classe apple\n",
            "Imagem 36 - classe apple\n",
            "Imagem 37 - classe apple\n",
            "Imagem 38 - classe apple\n",
            "Imagem 39 - classe apple\n",
            "Imagem 40 - classe apple\n",
            "Imagem 41 - classe apple\n",
            "Imagem 42 - classe apple\n",
            "Imagem 43 - classe apple\n",
            "Imagem 44 - classe apple\n",
            "Imagem 45 - classe apple\n",
            "Imagem 46 - classe apple\n",
            "Imagem 47 - classe apple\n",
            "Imagem 48 - classe apple\n",
            "Imagem 49 - classe apple\n",
            "Imagem 50 - classe apple\n",
            "Imagem 51 - classe apple\n",
            "Imagem 52 - classe apple\n",
            "Imagem 53 - classe apple\n",
            "Imagem 54 - classe apple\n",
            "Imagem 55 - classe apple\n",
            "Imagem 56 - classe apple\n",
            "Imagem 57 - classe apple\n",
            "Imagem 58 - classe apple\n",
            "Imagem 59 - classe apple\n",
            "Imagem 60 - classe apple\n",
            "Imagem 61 - classe apple\n",
            "Imagem 62 - classe apple\n",
            "Imagem 63 - classe apple\n",
            "Imagem 64 - classe apple\n",
            "Imagem 65 - classe apple\n",
            "Imagem 66 - classe apple\n",
            "Imagem 67 - classe apple\n",
            "Imagem 68 - classe apple\n",
            "Imagem 69 - classe apple\n",
            "Imagem 70 - classe apple\n",
            "Imagem 71 - classe apple\n",
            "Imagem 72 - classe apple\n",
            "Imagem 73 - classe apple\n",
            "Imagem 74 - classe apple\n",
            "Imagem 75 - classe apple\n",
            "Imagem 76 - classe apple\n",
            "Imagem 77 - classe apple\n",
            "Imagem 78 - classe apple\n",
            "Imagem 79 - classe apple\n",
            "Imagem 80 - classe apple\n",
            "Imagem 81 - classe apple\n",
            "Imagem 82 - classe apple\n",
            "Imagem 83 - classe apple\n",
            "Imagem 84 - classe apple\n",
            "Imagem 85 - classe apple\n",
            "Imagem 86 - classe apple\n",
            "Imagem 87 - classe apple\n",
            "Imagem 88 - classe apple\n",
            "Imagem 89 - classe apple\n",
            "Imagem 90 - classe apple\n",
            "Imagem 91 - classe apple\n",
            "Imagem 92 - classe apple\n",
            "Imagem 93 - classe apple\n",
            "Imagem 94 - classe apple\n",
            "Imagem 95 - classe apple\n",
            "Imagem 96 - classe apple\n",
            "Imagem 97 - classe apple\n",
            "Imagem 98 - classe apple\n",
            "Imagem 99 - classe apple\n",
            "Imagem 100 - classe bird\n",
            "Imagem 101 - classe bird\n",
            "Imagem 102 - classe bird\n",
            "Imagem 103 - classe bird\n",
            "Imagem 104 - classe bird\n",
            "Imagem 105 - classe bird\n",
            "Imagem 106 - classe bird\n",
            "Imagem 107 - classe bird\n",
            "Imagem 108 - classe bird\n",
            "Imagem 109 - classe bird\n",
            "Imagem 110 - classe bird\n",
            "Imagem 111 - classe bird\n",
            "Imagem 112 - classe bird\n",
            "Imagem 113 - classe bird\n",
            "Imagem 114 - classe bird\n",
            "Imagem 115 - classe bird\n",
            "Imagem 116 - classe bird\n",
            "Imagem 117 - classe bird\n",
            "Imagem 118 - classe bird\n",
            "Imagem 119 - classe bird\n",
            "Imagem 120 - classe bird\n",
            "Imagem 121 - classe bird\n",
            "Imagem 122 - classe bird\n",
            "Imagem 123 - classe bird\n",
            "Imagem 124 - classe bird\n",
            "Imagem 125 - classe bird\n",
            "Imagem 126 - classe bird\n",
            "Imagem 127 - classe bird\n",
            "Imagem 128 - classe bird\n",
            "Imagem 129 - classe bird\n",
            "Imagem 130 - classe bird\n",
            "Imagem 131 - classe bird\n",
            "Imagem 132 - classe bird\n",
            "Imagem 133 - classe bird\n",
            "Imagem 134 - classe bird\n",
            "Imagem 135 - classe bird\n",
            "Imagem 136 - classe bird\n",
            "Imagem 137 - classe bird\n",
            "Imagem 138 - classe bird\n",
            "Imagem 139 - classe bird\n",
            "Imagem 140 - classe bird\n",
            "Imagem 141 - classe bird\n",
            "Imagem 142 - classe bird\n",
            "Imagem 143 - classe bird\n",
            "Imagem 144 - classe bird\n",
            "Imagem 145 - classe bird\n",
            "Imagem 146 - classe bird\n",
            "Imagem 147 - classe bird\n",
            "Imagem 148 - classe bird\n",
            "Imagem 149 - classe bird\n",
            "Imagem 150 - classe bird\n",
            "Imagem 151 - classe bird\n",
            "Imagem 152 - classe bird\n",
            "Imagem 153 - classe bird\n",
            "Imagem 154 - classe bird\n",
            "Imagem 155 - classe bird\n",
            "Imagem 156 - classe bird\n",
            "Imagem 157 - classe bird\n",
            "Imagem 158 - classe bird\n",
            "Imagem 159 - classe bird\n",
            "Imagem 160 - classe bird\n",
            "Imagem 161 - classe bird\n",
            "Imagem 162 - classe bird\n",
            "Imagem 163 - classe bird\n",
            "Imagem 164 - classe bird\n",
            "Imagem 165 - classe bird\n",
            "Imagem 166 - classe bird\n",
            "Imagem 167 - classe bird\n",
            "Imagem 168 - classe bird\n",
            "Imagem 169 - classe bird\n",
            "Imagem 170 - classe bird\n",
            "Imagem 171 - classe bird\n",
            "Imagem 172 - classe bird\n",
            "Imagem 173 - classe bird\n",
            "Imagem 174 - classe bird\n",
            "Imagem 175 - classe bird\n",
            "Imagem 176 - classe bird\n",
            "Imagem 177 - classe bird\n",
            "Imagem 178 - classe bird\n",
            "Imagem 179 - classe bird\n",
            "Imagem 180 - classe bird\n",
            "Imagem 181 - classe bird\n",
            "Imagem 182 - classe bird\n",
            "Imagem 183 - classe bird\n",
            "Imagem 184 - classe bird\n",
            "Imagem 185 - classe bird\n",
            "Imagem 186 - classe bird\n",
            "Imagem 187 - classe bird\n",
            "Imagem 188 - classe bird\n",
            "Imagem 189 - classe bird\n",
            "Imagem 190 - classe bird\n",
            "Imagem 191 - classe bird\n",
            "Imagem 192 - classe bird\n",
            "Imagem 193 - classe bird\n",
            "Imagem 194 - classe bird\n",
            "Imagem 195 - classe bird\n",
            "Imagem 196 - classe bird\n",
            "Imagem 197 - classe bird\n",
            "Imagem 198 - classe bird\n",
            "Imagem 199 - classe bird\n",
            "Imagem 200 - classe beetle\n",
            "Imagem 201 - classe beetle\n",
            "Imagem 202 - classe beetle\n",
            "Imagem 203 - classe beetle\n",
            "Imagem 204 - classe beetle\n",
            "Imagem 205 - classe beetle\n",
            "Imagem 206 - classe beetle\n",
            "Imagem 207 - classe beetle\n",
            "Imagem 208 - classe beetle\n",
            "Imagem 209 - classe beetle\n",
            "Imagem 210 - classe beetle\n",
            "Imagem 211 - classe beetle\n",
            "Imagem 212 - classe beetle\n",
            "Imagem 213 - classe beetle\n",
            "Imagem 214 - classe beetle\n",
            "Imagem 215 - classe beetle\n",
            "Imagem 216 - classe beetle\n",
            "Imagem 217 - classe beetle\n",
            "Imagem 218 - classe beetle\n",
            "Imagem 219 - classe beetle\n",
            "Imagem 220 - classe beetle\n",
            "Imagem 221 - classe beetle\n",
            "Imagem 222 - classe beetle\n",
            "Imagem 223 - classe beetle\n",
            "Imagem 224 - classe beetle\n",
            "Imagem 225 - classe beetle\n",
            "Imagem 226 - classe beetle\n",
            "Imagem 227 - classe beetle\n",
            "Imagem 228 - classe beetle\n",
            "Imagem 229 - classe beetle\n",
            "Imagem 230 - classe beetle\n",
            "Imagem 231 - classe beetle\n",
            "Imagem 232 - classe beetle\n",
            "Imagem 233 - classe beetle\n",
            "Imagem 234 - classe beetle\n",
            "Imagem 235 - classe beetle\n",
            "Imagem 236 - classe beetle\n",
            "Imagem 237 - classe beetle\n",
            "Imagem 238 - classe beetle\n",
            "Imagem 239 - classe beetle\n",
            "Imagem 240 - classe beetle\n",
            "Imagem 241 - classe beetle\n",
            "Imagem 242 - classe beetle\n",
            "Imagem 243 - classe beetle\n",
            "Imagem 244 - classe beetle\n",
            "Imagem 245 - classe beetle\n",
            "Imagem 246 - classe beetle\n",
            "Imagem 247 - classe beetle\n",
            "Imagem 248 - classe beetle\n",
            "Imagem 249 - classe beetle\n",
            "Imagem 250 - classe beetle\n",
            "Imagem 251 - classe beetle\n",
            "Imagem 252 - classe beetle\n",
            "Imagem 253 - classe beetle\n",
            "Imagem 254 - classe beetle\n",
            "Imagem 255 - classe beetle\n",
            "Imagem 256 - classe beetle\n",
            "Imagem 257 - classe beetle\n",
            "Imagem 258 - classe beetle\n",
            "Imagem 259 - classe beetle\n",
            "Imagem 260 - classe beetle\n",
            "Imagem 261 - classe beetle\n",
            "Imagem 262 - classe beetle\n",
            "Imagem 263 - classe beetle\n",
            "Imagem 264 - classe beetle\n",
            "Imagem 265 - classe beetle\n",
            "Imagem 266 - classe beetle\n",
            "Imagem 267 - classe beetle\n",
            "Imagem 268 - classe beetle\n",
            "Imagem 269 - classe beetle\n",
            "Imagem 270 - classe beetle\n",
            "Imagem 271 - classe beetle\n",
            "Imagem 272 - classe beetle\n",
            "Imagem 273 - classe beetle\n",
            "Imagem 274 - classe beetle\n",
            "Imagem 275 - classe beetle\n",
            "Imagem 276 - classe beetle\n",
            "Imagem 277 - classe beetle\n",
            "Imagem 278 - classe beetle\n",
            "Imagem 279 - classe beetle\n",
            "Imagem 280 - classe beetle\n",
            "Imagem 281 - classe beetle\n",
            "Imagem 282 - classe beetle\n",
            "Imagem 283 - classe beetle\n",
            "Imagem 284 - classe beetle\n",
            "Imagem 285 - classe beetle\n",
            "Imagem 286 - classe beetle\n",
            "Imagem 287 - classe beetle\n",
            "Imagem 288 - classe beetle\n",
            "Imagem 289 - classe beetle\n",
            "Imagem 290 - classe beetle\n",
            "Imagem 291 - classe beetle\n",
            "Imagem 292 - classe beetle\n",
            "Imagem 293 - classe beetle\n",
            "Imagem 294 - classe beetle\n",
            "Imagem 295 - classe beetle\n",
            "Imagem 296 - classe beetle\n",
            "Imagem 297 - classe beetle\n",
            "Imagem 298 - classe beetle\n",
            "Imagem 299 - classe beetle\n",
            "Imagem 300 - classe bat\n",
            "Imagem 301 - classe bat\n",
            "Imagem 302 - classe bat\n",
            "Imagem 303 - classe bat\n",
            "Imagem 304 - classe bat\n",
            "Imagem 305 - classe bat\n",
            "Imagem 306 - classe bat\n",
            "Imagem 307 - classe bat\n",
            "Imagem 308 - classe bat\n",
            "Imagem 309 - classe bat\n",
            "Imagem 310 - classe bat\n",
            "Imagem 311 - classe bat\n",
            "Imagem 312 - classe bat\n",
            "Imagem 313 - classe bat\n",
            "Imagem 314 - classe bat\n",
            "Imagem 315 - classe bat\n",
            "Imagem 316 - classe bat\n",
            "Imagem 317 - classe bat\n",
            "Imagem 318 - classe bat\n",
            "Imagem 319 - classe bat\n",
            "Imagem 320 - classe bat\n",
            "Imagem 321 - classe bat\n",
            "Imagem 322 - classe bat\n",
            "Imagem 323 - classe bat\n",
            "Imagem 324 - classe bat\n",
            "Imagem 325 - classe bat\n",
            "Imagem 326 - classe bat\n",
            "Imagem 327 - classe bat\n",
            "Imagem 328 - classe bat\n",
            "Imagem 329 - classe bat\n",
            "Imagem 330 - classe bat\n",
            "Imagem 331 - classe bat\n",
            "Imagem 332 - classe bat\n",
            "Imagem 333 - classe bat\n",
            "Imagem 334 - classe bat\n",
            "Imagem 335 - classe bat\n",
            "Imagem 336 - classe bat\n",
            "Imagem 337 - classe bat\n",
            "Imagem 338 - classe bat\n",
            "Imagem 339 - classe bat\n",
            "Imagem 340 - classe bat\n",
            "Imagem 341 - classe bat\n",
            "Imagem 342 - classe bat\n",
            "Imagem 343 - classe bat\n",
            "Imagem 344 - classe bat\n",
            "Imagem 345 - classe bat\n",
            "Imagem 346 - classe bat\n",
            "Imagem 347 - classe bat\n",
            "Imagem 348 - classe bat\n",
            "Imagem 349 - classe bat\n",
            "Imagem 350 - classe bat\n",
            "Imagem 351 - classe bat\n",
            "Imagem 352 - classe bat\n",
            "Imagem 353 - classe bat\n",
            "Imagem 354 - classe bat\n",
            "Imagem 355 - classe bat\n",
            "Imagem 356 - classe bat\n",
            "Imagem 357 - classe bat\n",
            "Imagem 358 - classe bat\n",
            "Imagem 359 - classe bat\n",
            "Imagem 360 - classe bat\n",
            "Imagem 361 - classe bat\n",
            "Imagem 362 - classe bat\n",
            "Imagem 363 - classe bat\n",
            "Imagem 364 - classe bat\n",
            "Imagem 365 - classe bat\n",
            "Imagem 366 - classe bat\n",
            "Imagem 367 - classe bat\n",
            "Imagem 368 - classe bat\n",
            "Imagem 369 - classe bat\n",
            "Imagem 370 - classe bat\n",
            "Imagem 371 - classe bat\n",
            "Imagem 372 - classe bat\n",
            "Imagem 373 - classe bat\n",
            "Imagem 374 - classe bat\n",
            "Imagem 375 - classe bat\n",
            "Imagem 376 - classe bat\n",
            "Imagem 377 - classe bat\n",
            "Imagem 378 - classe bat\n",
            "Imagem 379 - classe bat\n",
            "Imagem 380 - classe bat\n",
            "Imagem 381 - classe bat\n",
            "Imagem 382 - classe bat\n",
            "Imagem 383 - classe bat\n",
            "Imagem 384 - classe bat\n",
            "Imagem 385 - classe bat\n",
            "Imagem 386 - classe bat\n",
            "Imagem 387 - classe bat\n",
            "Imagem 388 - classe bat\n",
            "Imagem 389 - classe bat\n",
            "Imagem 390 - classe bat\n",
            "Imagem 391 - classe bat\n",
            "Imagem 392 - classe bat\n",
            "Imagem 393 - classe bat\n",
            "Imagem 394 - classe bat\n",
            "Imagem 395 - classe bat\n",
            "Imagem 396 - classe bat\n",
            "Imagem 397 - classe bat\n",
            "Imagem 398 - classe bat\n",
            "Imagem 399 - classe bat\n",
            "Imagem 400 - classe bone\n",
            "Imagem 401 - classe bone\n",
            "Imagem 402 - classe bone\n",
            "Imagem 403 - classe bone\n",
            "Imagem 404 - classe bone\n",
            "Imagem 405 - classe bone\n",
            "Imagem 406 - classe bone\n",
            "Imagem 407 - classe bone\n",
            "Imagem 408 - classe bone\n",
            "Imagem 409 - classe bone\n",
            "Imagem 410 - classe bone\n",
            "Imagem 411 - classe bone\n",
            "Imagem 412 - classe bone\n",
            "Imagem 413 - classe bone\n",
            "Imagem 414 - classe bone\n",
            "Imagem 415 - classe bone\n",
            "Imagem 416 - classe bone\n",
            "Imagem 417 - classe bone\n",
            "Imagem 418 - classe bone\n",
            "Imagem 419 - classe bone\n",
            "Imagem 420 - classe bone\n",
            "Imagem 421 - classe bone\n",
            "Imagem 422 - classe bone\n",
            "Imagem 423 - classe bone\n",
            "Imagem 424 - classe bone\n",
            "Imagem 425 - classe bone\n",
            "Imagem 426 - classe bone\n",
            "Imagem 427 - classe bone\n",
            "Imagem 428 - classe bone\n",
            "Imagem 429 - classe bone\n",
            "Imagem 430 - classe bone\n",
            "Imagem 431 - classe bone\n",
            "Imagem 432 - classe bone\n",
            "Imagem 433 - classe bone\n",
            "Imagem 434 - classe bone\n",
            "Imagem 435 - classe bone\n",
            "Imagem 436 - classe bone\n",
            "Imagem 437 - classe bone\n",
            "Imagem 438 - classe bone\n",
            "Imagem 439 - classe bone\n",
            "Imagem 440 - classe bone\n",
            "Imagem 441 - classe bone\n",
            "Imagem 442 - classe bone\n",
            "Imagem 443 - classe bone\n",
            "Imagem 444 - classe bone\n",
            "Imagem 445 - classe bone\n",
            "Imagem 446 - classe bone\n",
            "Imagem 447 - classe bone\n",
            "Imagem 448 - classe bone\n",
            "Imagem 449 - classe bone\n",
            "Imagem 450 - classe bone\n",
            "Imagem 451 - classe bone\n",
            "Imagem 452 - classe bone\n",
            "Imagem 453 - classe bone\n",
            "Imagem 454 - classe bone\n",
            "Imagem 455 - classe bone\n",
            "Imagem 456 - classe bone\n",
            "Imagem 457 - classe bone\n",
            "Imagem 458 - classe bone\n",
            "Imagem 459 - classe bone\n",
            "Imagem 460 - classe bone\n",
            "Imagem 461 - classe bone\n",
            "Imagem 462 - classe bone\n",
            "Imagem 463 - classe bone\n",
            "Imagem 464 - classe bone\n",
            "Imagem 465 - classe bone\n",
            "Imagem 466 - classe bone\n",
            "Imagem 467 - classe bone\n",
            "Imagem 468 - classe bone\n",
            "Imagem 469 - classe bone\n",
            "Imagem 470 - classe bone\n",
            "Imagem 471 - classe bone\n",
            "Imagem 472 - classe bone\n",
            "Imagem 473 - classe bone\n",
            "Imagem 474 - classe bone\n",
            "Imagem 475 - classe bone\n",
            "Imagem 476 - classe bone\n",
            "Imagem 477 - classe bone\n",
            "Imagem 478 - classe bone\n",
            "Imagem 479 - classe bone\n",
            "Imagem 480 - classe bone\n",
            "Imagem 481 - classe bone\n",
            "Imagem 482 - classe bone\n",
            "Imagem 483 - classe bone\n",
            "Imagem 484 - classe bone\n",
            "Imagem 485 - classe bone\n",
            "Imagem 486 - classe bone\n",
            "Imagem 487 - classe bone\n",
            "Imagem 488 - classe bone\n",
            "Imagem 489 - classe bone\n",
            "Imagem 490 - classe bone\n",
            "Imagem 491 - classe bone\n",
            "Imagem 492 - classe bone\n",
            "Imagem 493 - classe bone\n",
            "Imagem 494 - classe bone\n",
            "Imagem 495 - classe bone\n",
            "Imagem 496 - classe bone\n",
            "Imagem 497 - classe bone\n",
            "Imagem 498 - classe bone\n",
            "Imagem 499 - classe bone\n",
            "Imagem 500 - classe bell\n",
            "Imagem 501 - classe bell\n",
            "Imagem 502 - classe bell\n",
            "Imagem 503 - classe bell\n",
            "Imagem 504 - classe bell\n",
            "Imagem 505 - classe bell\n",
            "Imagem 506 - classe bell\n",
            "Imagem 507 - classe bell\n",
            "Imagem 508 - classe bell\n",
            "Imagem 509 - classe bell\n",
            "Imagem 510 - classe bell\n",
            "Imagem 511 - classe bell\n",
            "Imagem 512 - classe bell\n",
            "Imagem 513 - classe bell\n",
            "Imagem 514 - classe bell\n",
            "Imagem 515 - classe bell\n",
            "Imagem 516 - classe bell\n",
            "Imagem 517 - classe bell\n",
            "Imagem 518 - classe bell\n",
            "Imagem 519 - classe bell\n",
            "Imagem 520 - classe bell\n",
            "Imagem 521 - classe bell\n",
            "Imagem 522 - classe bell\n",
            "Imagem 523 - classe bell\n",
            "Imagem 524 - classe bell\n",
            "Imagem 525 - classe bell\n",
            "Imagem 526 - classe bell\n",
            "Imagem 527 - classe bell\n",
            "Imagem 528 - classe bell\n",
            "Imagem 529 - classe bell\n",
            "Imagem 530 - classe bell\n",
            "Imagem 531 - classe bell\n",
            "Imagem 532 - classe bell\n",
            "Imagem 533 - classe bell\n",
            "Imagem 534 - classe bell\n",
            "Imagem 535 - classe bell\n",
            "Imagem 536 - classe bell\n",
            "Imagem 537 - classe bell\n",
            "Imagem 538 - classe bell\n",
            "Imagem 539 - classe bell\n",
            "Imagem 540 - classe bell\n",
            "Imagem 541 - classe bell\n",
            "Imagem 542 - classe bell\n",
            "Imagem 543 - classe bell\n",
            "Imagem 544 - classe bell\n",
            "Imagem 545 - classe bell\n",
            "Imagem 546 - classe bell\n",
            "Imagem 547 - classe bell\n",
            "Imagem 548 - classe bell\n",
            "Imagem 549 - classe bell\n",
            "Imagem 550 - classe bell\n",
            "Imagem 551 - classe bell\n",
            "Imagem 552 - classe bell\n",
            "Imagem 553 - classe bell\n",
            "Imagem 554 - classe bell\n",
            "Imagem 555 - classe bell\n",
            "Imagem 556 - classe bell\n",
            "Imagem 557 - classe bell\n",
            "Imagem 558 - classe bell\n",
            "Imagem 559 - classe bell\n",
            "Imagem 560 - classe bell\n",
            "Imagem 561 - classe bell\n",
            "Imagem 562 - classe bell\n",
            "Imagem 563 - classe bell\n",
            "Imagem 564 - classe bell\n",
            "Imagem 565 - classe bell\n",
            "Imagem 566 - classe bell\n",
            "Imagem 567 - classe bell\n",
            "Imagem 568 - classe bell\n",
            "Imagem 569 - classe bell\n",
            "Imagem 570 - classe bell\n",
            "Imagem 571 - classe bell\n",
            "Imagem 572 - classe bell\n",
            "Imagem 573 - classe bell\n",
            "Imagem 574 - classe bell\n",
            "Imagem 575 - classe bell\n",
            "Imagem 576 - classe bell\n",
            "Imagem 577 - classe bell\n",
            "Imagem 578 - classe bell\n",
            "Imagem 579 - classe bell\n",
            "Imagem 580 - classe bell\n",
            "Imagem 581 - classe bell\n",
            "Imagem 582 - classe bell\n",
            "Imagem 583 - classe bell\n",
            "Imagem 584 - classe bell\n",
            "Imagem 585 - classe bell\n",
            "Imagem 586 - classe bell\n",
            "Imagem 587 - classe bell\n",
            "Imagem 588 - classe bell\n",
            "Imagem 589 - classe bell\n",
            "Imagem 590 - classe bell\n",
            "Imagem 591 - classe bell\n",
            "Imagem 592 - classe bell\n",
            "Imagem 593 - classe bell\n",
            "Imagem 594 - classe bell\n",
            "Imagem 595 - classe bell\n",
            "Imagem 596 - classe bell\n",
            "Imagem 597 - classe bell\n",
            "Imagem 598 - classe bell\n",
            "Imagem 599 - classe bell\n"
          ]
        }
      ]
    },
    {
      "cell_type": "code",
      "source": [
        "# Converte a lista de caracteristicas para um arranjo NumPy\n",
        "feature_mat = np.array(feature_mat)\n",
        "\n",
        "# Shape of the feature_map.\n",
        "# Each row is a sample (image), and each column is a feature.\n",
        "print(feature_mat.shape)"
      ],
      "metadata": {
        "colab": {
          "base_uri": "https://localhost:8080/"
        },
        "id": "XKfGW9pp5K_J",
        "outputId": "01f7926d-7959-4987-d67b-75186d841c89"
      },
      "execution_count": null,
      "outputs": [
        {
          "output_type": "stream",
          "name": "stdout",
          "text": [
            "(600, 32)\n"
          ]
        }
      ]
    },
    {
      "cell_type": "code",
      "source": [
        "# Algumas estatisticas sobre o conjunto de caracteristicas\n",
        "with np.printoptions(precision=4, suppress=True):\n",
        "    print('Histogram minimum values:')\n",
        "    print(feature_mat.min(0))\n",
        "    print('Histogram maximum values:')\n",
        "    print(feature_mat.max(0))\n",
        "    print('Histogram mean values:')\n",
        "    print(feature_mat.mean(0))\n",
        "    print('Histogram standard deviation values:')\n",
        "    print(feature_mat.std(0))"
      ],
      "metadata": {
        "colab": {
          "base_uri": "https://localhost:8080/"
        },
        "id": "EYoNCa5i5aSR",
        "outputId": "5df22935-1984-49ed-9c4b-d9e5154d739c"
      },
      "execution_count": null,
      "outputs": [
        {
          "output_type": "stream",
          "name": "stdout",
          "text": [
            "Histogram minimum values:\n",
            "[0.3767 0.     0.     0.0002 0.     0.     0.     0.     0.     0.\n",
            " 0.     0.     0.     0.     0.     0.     0.     0.     0.     0.\n",
            " 0.     0.     0.     0.     0.     0.     0.     0.0002 0.     0.\n",
            " 0.     0.053 ]\n",
            "Histogram maximum values:\n",
            "[0.9014 0.0183 0.0129 0.01   0.0078 0.0078 0.0081 0.0068 0.0068 0.0071\n",
            " 0.0068 0.0071 0.0063 0.0059 0.0063 0.0056 0.0059 0.0056 0.0073 0.0056\n",
            " 0.0068 0.0068 0.0051 0.0088 0.0063 0.0076 0.0076 0.0088 0.0122 0.0134\n",
            " 0.0178 0.5498]\n",
            "Histogram mean values:\n",
            "[0.6432 0.0066 0.0044 0.0036 0.0029 0.0025 0.0023 0.0022 0.0022 0.0018\n",
            " 0.0017 0.0017 0.0018 0.0016 0.0016 0.0018 0.0016 0.0017 0.0016 0.0018\n",
            " 0.0017 0.0018 0.0019 0.0022 0.0022 0.0023 0.0026 0.0031 0.0036 0.0044\n",
            " 0.0063 0.2792]\n",
            "Histogram standard deviation values:\n",
            "[0.1452 0.0029 0.0019 0.0016 0.0013 0.0013 0.0012 0.0012 0.0012 0.0011\n",
            " 0.001  0.001  0.0009 0.001  0.0009 0.001  0.0009 0.0009 0.001  0.001\n",
            " 0.001  0.001  0.001  0.0012 0.0011 0.0013 0.0015 0.0014 0.0018 0.0021\n",
            " 0.0029 0.1507]\n"
          ]
        }
      ]
    },
    {
      "cell_type": "markdown",
      "source": [
        "Plotando as características computadas"
      ],
      "metadata": {
        "id": "Hlpw81345nE1"
      }
    },
    {
      "cell_type": "code",
      "source": [
        "# Seleciona apenas as primeiras N imagens de cada classe\n",
        "feature_mat_temp = []\n",
        "filename_list_temp = []\n",
        "\n",
        "# Itera pelo número de classes\n",
        "for i in range(3):\n",
        "    # As 6 primeiras ocorrencias em que label é igual a 'i'.\n",
        "    feature_mat_temp += [feature_mat[j] for j in np.where(label_list==classes_list[i])[0][:3]]\n",
        "    filename_list_temp += [filename_list_[j] for j in np.where(label_list==classes_list[i])[0][:3]]"
      ],
      "metadata": {
        "id": "6Spwu_vD5gR2"
      },
      "execution_count": null,
      "outputs": []
    },
    {
      "cell_type": "code",
      "source": [
        "fig, ax  = plt.subplots(3, 3, figsize=(9, 5))\n",
        "\n",
        "for i, (feature, filename) in enumerate(zip(feature_mat_temp, filename_list_temp)):\n",
        "    ## ax[i//6, i%6].imshow(image, vmin=0, vmax=255)\n",
        "    ax[i//3, i%3].plot(feature)\n",
        "    ax[i//3, i%3].set_title(str(filename), fontsize=10)\n",
        "    ### ax[i//6, i%6].axis('off')\n",
        "\n",
        "fig.tight_layout()\n",
        "plt.show()"
      ],
      "metadata": {
        "colab": {
          "base_uri": "https://localhost:8080/",
          "height": 507
        },
        "id": "0zklc-a75sIX",
        "outputId": "5abf86a2-16e8-44d7-f591-499f9e1c4cc1"
      },
      "execution_count": null,
      "outputs": [
        {
          "output_type": "display_data",
          "data": {
            "text/plain": [
              "<Figure size 900x500 with 9 Axes>"
            ],
            "image/png": "[encoded data removed]"
          },
          "metadata": {}
        }
      ]
    },
    {
      "cell_type": "code",
      "source": [
        "print(f\"Tamanho de label_list: {len(label_list)}\")\n",
        "print(f\"Tamanho de feature_mat: {len(feature_mat)}\")\n",
        "print(f\"Tamanho de filename_list_: {len(filename_list_)}\")\n"
      ],
      "metadata": {
        "colab": {
          "base_uri": "https://localhost:8080/"
        },
        "id": "SQ9qZ0sq6knp",
        "outputId": "b4bfa999-b95c-43e8-c5dd-20f4dea6a370"
      },
      "execution_count": null,
      "outputs": [
        {
          "output_type": "stream",
          "name": "stdout",
          "text": [
            "Tamanho de label_list: 600\n",
            "Tamanho de feature_mat: 600\n",
            "Tamanho de filename_list_: 600\n"
          ]
        }
      ]
    },
    {
      "cell_type": "markdown",
      "source": [
        "Cross Validation"
      ],
      "metadata": {
        "id": "YZWiYS0Z6qrY"
      }
    },
    {
      "cell_type": "code",
      "source": [
        "# Selecionamos apenas duas caracteristicas: Área e maior-eixo\n",
        "feature_mat_ok = feature_mat"
      ],
      "metadata": {
        "id": "iW_PIp9B6n1O"
      },
      "execution_count": null,
      "outputs": []
    },
    {
      "cell_type": "code",
      "source": [
        "# Separa 30% do conjuto de completo para TESTES. 70% para treinamento 1.\n",
        "X_train_1, X_test, y_train_1, y_test, file_train_1, file_test = model_selection.train_test_split(feature_mat_ok,\n",
        "                                                                                                 label_list,\n",
        "                                                                                                 filename_list_,\n",
        "                                                                                                 test_size=0.3,\n",
        "                                                                                                 stratify=label_list,\n",
        "                                                                                                 random_state=42)"
      ],
      "metadata": {
        "id": "VuRCpxZj6xXf"
      },
      "execution_count": null,
      "outputs": []
    },
    {
      "cell_type": "code",
      "source": [
        "# Separa 25% do conjuto de treinamento 1 para validação.\n",
        "#   -> Equivale a 20% do conjunto completo. 0,2 / 0,8 = 0,25\n",
        "X_train_2, X_val, y_train_2, y_val, file_train_2, file_val = model_selection.train_test_split(X_train_1,\n",
        "                                                                                              y_train_1,\n",
        "                                                                                              file_train_1,\n",
        "                                                                                              test_size=0.25,\n",
        "                                                                                              stratify=y_train_1,\n",
        "                                                                                              random_state=42)"
      ],
      "metadata": {
        "id": "Y9U-w6fd644e"
      },
      "execution_count": null,
      "outputs": []
    },
    {
      "cell_type": "code",
      "source": [
        "print(len(X_train_2))\n",
        "print(len(X_val))\n",
        "print(len(X_test))"
      ],
      "metadata": {
        "colab": {
          "base_uri": "https://localhost:8080/"
        },
        "id": "P-if9vLd6831",
        "outputId": "32b0fac4-667f-491e-f0ba-18cd30413e64"
      },
      "execution_count": null,
      "outputs": [
        {
          "output_type": "stream",
          "name": "stdout",
          "text": [
            "315\n",
            "105\n",
            "180\n"
          ]
        }
      ]
    },
    {
      "cell_type": "markdown",
      "source": [
        "Feature Normalization"
      ],
      "metadata": {
        "id": "AnpYCQgi7GuG"
      }
    },
    {
      "cell_type": "code",
      "source": [
        "# Média das caracteristicas do conjunto de treinamento\n",
        "X_train_2_mean = X_train_2.mean(0)\n",
        "\n",
        "# Desvio padrão das caracteristicas do conjunto de treinamento\n",
        "X_train_2_std = X_train_2.std(0)\n",
        "\n",
        "with np.printoptions(precision=4, suppress=True):\n",
        "    print(X_train_2.mean(0))\n",
        "    print(X_train_2.std(0))"
      ],
      "metadata": {
        "colab": {
          "base_uri": "https://localhost:8080/"
        },
        "id": "LgzDBYJo7Edu",
        "outputId": "901d2f5f-2a3d-4f57-fa38-73bd03c511c3"
      },
      "execution_count": null,
      "outputs": [
        {
          "output_type": "stream",
          "name": "stdout",
          "text": [
            "[0.6439 0.0066 0.0044 0.0036 0.0029 0.0026 0.0022 0.0022 0.0022 0.0019\n",
            " 0.0017 0.0017 0.0018 0.0016 0.0016 0.0017 0.0016 0.0017 0.0016 0.0018\n",
            " 0.0017 0.0018 0.002  0.0022 0.0022 0.0023 0.0026 0.0031 0.0035 0.0045\n",
            " 0.0064 0.2785]\n",
            "[0.1482 0.0028 0.0019 0.0017 0.0014 0.0013 0.0012 0.0012 0.0012 0.0011\n",
            " 0.001  0.001  0.0009 0.001  0.0009 0.001  0.0009 0.0009 0.001  0.001\n",
            " 0.0011 0.0009 0.001  0.0011 0.0011 0.0013 0.0015 0.0014 0.0017 0.0022\n",
            " 0.0029 0.1524]\n"
          ]
        }
      ]
    },
    {
      "cell_type": "code",
      "source": [
        "# Transformada Normal de Caracteristicas (Manual)\n",
        "# ----\n",
        "# X_train_2_norm = (X_train_2 - X_train_2_mean) / X_train_2_std\n",
        "# X_val_norm = (X_val - X_train_2_mean) / X_train_2_std\n",
        "# X_test_norm = (X_test - X_train_2_mean) / X_train_2_std\n",
        "\n",
        "# Transformada Normal de Caracteristicas (Sklearn)\n",
        "# ----\n",
        "scaler = preprocessing.StandardScaler().fit(X_train_2)\n",
        "with np.printoptions(precision=4, suppress=True):\n",
        "    print(f'Média:  \\t {np.array(scaler.mean_)}')\n",
        "    print(f'Desv. pad.: \\t {np.array(scaler.scale_)}')"
      ],
      "metadata": {
        "colab": {
          "base_uri": "https://localhost:8080/"
        },
        "id": "aMM0SAdL7MYm",
        "outputId": "f879ba17-39b8-4114-c97c-768abf9d4ef9"
      },
      "execution_count": null,
      "outputs": [
        {
          "output_type": "stream",
          "name": "stdout",
          "text": [
            "Média:  \t [0.6439 0.0066 0.0044 0.0036 0.0029 0.0026 0.0022 0.0022 0.0022 0.0019\n",
            " 0.0017 0.0017 0.0018 0.0016 0.0016 0.0017 0.0016 0.0017 0.0016 0.0018\n",
            " 0.0017 0.0018 0.002  0.0022 0.0022 0.0023 0.0026 0.0031 0.0035 0.0045\n",
            " 0.0064 0.2785]\n",
            "Desv. pad.: \t [0.1482 0.0028 0.0019 0.0017 0.0014 0.0013 0.0012 0.0012 0.0012 0.0011\n",
            " 0.001  0.001  0.0009 0.001  0.0009 0.001  0.0009 0.0009 0.001  0.001\n",
            " 0.0011 0.0009 0.001  0.0011 0.0011 0.0013 0.0015 0.0014 0.0017 0.0022\n",
            " 0.0029 0.1524]\n"
          ]
        }
      ]
    },
    {
      "cell_type": "code",
      "source": [
        "X_train_2_norm = scaler.transform(X_train_2)\n",
        "X_val_norm = scaler.transform(X_val)\n",
        "X_test_norm = scaler.transform(X_test)\n",
        "\n",
        "with np.printoptions(precision=4, suppress=True):\n",
        "    print(f'Treino: \\t {X_train_2_norm.mean():.4f} ± {X_train_2_norm.std():.4f}')\n",
        "    print(f'Validação: \\t {X_val_norm.mean():.4f} ± {X_val_norm.std():.4f}')\n",
        "    print(f'Teste:   \\t {X_test_norm.mean():.4f} ± {X_test_norm.std():.4f}')"
      ],
      "metadata": {
        "colab": {
          "base_uri": "https://localhost:8080/"
        },
        "id": "3vrZsK5m7RM-",
        "outputId": "5d2bf0bb-6645-42eb-897b-3757857f9988"
      },
      "execution_count": null,
      "outputs": [
        {
          "output_type": "stream",
          "name": "stdout",
          "text": [
            "Treino: \t -0.0000 ± 1.0000\n",
            "Validação: \t -0.0006 ± 0.9997\n",
            "Teste:   \t 0.0018 ± 0.9925\n"
          ]
        }
      ]
    },
    {
      "cell_type": "markdown",
      "source": [
        "Optimizing hyperparameters in the validation set"
      ],
      "metadata": {
        "id": "3-RYkR5k7Yfe"
      }
    },
    {
      "cell_type": "code",
      "source": [
        "k_list = [1, 3, 5, 7, 9]"
      ],
      "metadata": {
        "id": "Uyppefa67VeG"
      },
      "execution_count": null,
      "outputs": []
    },
    {
      "cell_type": "code",
      "source": [
        "# Lista com as acurácias de traino\n",
        "acc_train_list = []\n",
        "# Lista com as acurácias de validação\n",
        "acc_val_list = []\n",
        "\n",
        "for k_ in k_list:\n",
        "    # Constrói um classificador K-NN. K = k_\n",
        "    clf = neighbors.KNeighborsClassifier(n_neighbors=k_, n_jobs=1)\n",
        "\n",
        "    # Treinando o classificador\n",
        "    clf.fit(X_train_2_norm, y_train_2)\n",
        "\n",
        "    # Testando o classificador (usando o conjunto de validação)\n",
        "    pred = clf.predict(X_val_norm)\n",
        "    acc_val = metrics.accuracy_score(y_val, pred)\n",
        "\n",
        "    acc_val_list.append(acc_val)\n",
        "\n",
        "    # Testando o classificador (usando o conjunto de treino)\n",
        "    # **** Apenas para comparar com o resultado da validação ****\n",
        "    pred_train = clf.predict(X_train_2_norm)\n",
        "    acc_train = metrics.accuracy_score(y_train_2, pred_train)\n",
        "\n",
        "    acc_train_list.append(acc_train)"
      ],
      "metadata": {
        "id": "QTJy6OwH7ecu"
      },
      "execution_count": null,
      "outputs": []
    },
    {
      "cell_type": "code",
      "source": [
        "plt.figure(figsize=(9, 6))\n",
        "\n",
        "plt.plot(k_list, acc_train_list, 'o', color='blue', label='treino')\n",
        "plt.plot(k_list, acc_val_list, 'x', color='red', label='validação')\n",
        "plt.xlabel(\"Valor de 'k'\")\n",
        "plt.ylabel(\"Acurácia\")\n",
        "plt.legend(loc='best')\n",
        "\n",
        "plt.show()"
      ],
      "metadata": {
        "colab": {
          "base_uri": "https://localhost:8080/",
          "height": 542
        },
        "id": "y5GCqxrY7ibW",
        "outputId": "12fbc2b9-84d0-4869-8c55-2043a32f7573"
      },
      "execution_count": null,
      "outputs": [
        {
          "output_type": "display_data",
          "data": {
            "text/plain": [
              "<Figure size 900x600 with 1 Axes>"
            ],
            "image/png": "[encoded data removed]"
          },
          "metadata": {}
        }
      ]
    },
    {
      "cell_type": "code",
      "source": [
        "print('k \\t acc. train \\t acc. val')\n",
        "print('----------------------------')\n",
        "for k_, acc_t, acc_v in zip(k_list, acc_train_list, acc_val_list):\n",
        "    print(f'{k_} \\t {acc_t:.4f} \\t {acc_v:.4f}')\n",
        "\n",
        "k_best = k_list[np.argmax(acc_val_list)]\n",
        "print(f'\\nMelhor \\'k\\': {k_best} ({np.max(acc_val_list):.4f} acc.)')"
      ],
      "metadata": {
        "colab": {
          "base_uri": "https://localhost:8080/"
        },
        "id": "mEe4rhjo7n22",
        "outputId": "55ccf16b-feaa-48e6-d2a2-28eaa4b4a6e2"
      },
      "execution_count": null,
      "outputs": [
        {
          "output_type": "stream",
          "name": "stdout",
          "text": [
            "k \t acc. train \t acc. val\n",
            "----------------------------\n",
            "1 \t 1.0000 \t 0.6476\n",
            "3 \t 0.8032 \t 0.6286\n",
            "5 \t 0.7651 \t 0.6476\n",
            "7 \t 0.7175 \t 0.6571\n",
            "9 \t 0.6762 \t 0.6476\n",
            "\n",
            "Melhor 'k': 7 (0.6571 acc.)\n"
          ]
        }
      ]
    },
    {
      "cell_type": "markdown",
      "source": [
        "Evaluating the model over the test set"
      ],
      "metadata": {
        "id": "ZqBwqDyH7x7W"
      }
    },
    {
      "cell_type": "code",
      "source": [
        "# Constrói um classificador K-NN. K = k_best\n",
        "clf = neighbors.KNeighborsClassifier(n_neighbors=k_best)\n",
        "\n",
        "# Treinando o classificador\n",
        "clf.fit(X_train_2_norm, y_train_2)\n",
        "\n",
        "# Testando o classificador (usando o conjunto de TESTES)\n",
        "pred = clf.predict(X_test_norm)\n",
        "acc_val = metrics.accuracy_score(y_test, pred)"
      ],
      "metadata": {
        "id": "lqW8cRX77t9W"
      },
      "execution_count": null,
      "outputs": []
    },
    {
      "cell_type": "markdown",
      "source": [
        "Confusion matrix and classification report"
      ],
      "metadata": {
        "id": "7STMHDig735V"
      }
    },
    {
      "cell_type": "code",
      "source": [
        "print('\\nConfusion matrix:')\n",
        "print(metrics.confusion_matrix(y_test, pred))\n",
        "\n",
        "print('\\nClassification report:')\n",
        "print(metrics.classification_report(y_test, pred))"
      ],
      "metadata": {
        "colab": {
          "base_uri": "https://localhost:8080/"
        },
        "id": "0WjuT2Jw796-",
        "outputId": "c8db835a-d710-4418-c8fb-30eee279f118"
      },
      "execution_count": null,
      "outputs": [
        {
          "output_type": "stream",
          "name": "stdout",
          "text": [
            "\n",
            "Confusion matrix:\n",
            "[[29  0  0  0  0  1]\n",
            " [ 0 10  0  0  6 14]\n",
            " [ 0  0 29  0  0  1]\n",
            " [ 9  1  0 20  0  0]\n",
            " [ 1 12  1  1  8  7]\n",
            " [ 0 10  0  0  2 18]]\n",
            "\n",
            "Classification report:\n",
            "              precision    recall  f1-score   support\n",
            "\n",
            "       apple       0.74      0.97      0.84        30\n",
            "         bat       0.30      0.33      0.32        30\n",
            "      beetle       0.97      0.97      0.97        30\n",
            "        bell       0.95      0.67      0.78        30\n",
            "        bird       0.50      0.27      0.35        30\n",
            "        bone       0.44      0.60      0.51        30\n",
            "\n",
            "    accuracy                           0.63       180\n",
            "   macro avg       0.65      0.63      0.63       180\n",
            "weighted avg       0.65      0.63      0.63       180\n",
            "\n"
          ]
        }
      ]
    },
    {
      "cell_type": "markdown",
      "source": [
        "A detailed classification report"
      ],
      "metadata": {
        "id": "CeDX2ABC8E1H"
      }
    },
    {
      "cell_type": "code",
      "source": [
        "for i, (y_test_, pred_, filename_) in enumerate(zip(y_test, pred, file_test)):\n",
        "    print(f'{i} \\t {filename_} \\t {y_test_} \\t {pred_} \\t {(y_test_ == pred_)}')"
      ],
      "metadata": {
        "id": "h5JSS6ep8FoX",
        "outputId": "000b2d7f-4da8-44e4-adfb-9a67521c9814",
        "colab": {
          "base_uri": "https://localhost:8080/"
        }
      },
      "execution_count": null,
      "outputs": [
        {
          "output_type": "stream",
          "name": "stdout",
          "text": [
            "0 \t bird-10_a5.png \t bird \t bone \t False\n",
            "1 \t beetle-13_a2.png \t beetle \t beetle \t True\n",
            "2 \t bell-19_a4.png \t bell \t bell \t True\n",
            "3 \t Bone-15_a1.png \t bone \t bat \t False\n",
            "4 \t bat-11_a3.png \t bat \t bat \t True\n",
            "5 \t apple-19_a4.png \t apple \t apple \t True\n",
            "6 \t bell-9_a1.png \t bell \t apple \t False\n",
            "7 \t beetle-14_a4.png \t beetle \t beetle \t True\n",
            "8 \t bell-11_a3.png \t bell \t bell \t True\n",
            "9 \t beetle-12_a1.png \t beetle \t beetle \t True\n",
            "10 \t bat-16_a5.png \t bat \t bone \t False\n",
            "11 \t bat-14_a3.png \t bat \t bird \t False\n",
            "12 \t bat-4_a2.png \t bat \t bat \t True\n",
            "13 \t Bone-14_a4.png \t bone \t bone \t True\n",
            "14 \t apple-20_a4.png \t apple \t apple \t True\n",
            "15 \t Bone-7_a5.png \t bone \t bone \t True\n",
            "16 \t bird-19_a3.png \t bird \t bat \t False\n",
            "17 \t apple-1_a2.png \t apple \t apple \t True\n",
            "18 \t apple-1_a3.png \t apple \t apple \t True\n",
            "19 \t beetle-8_a1.png \t beetle \t beetle \t True\n",
            "20 \t Bone-11_a3.png \t bone \t bone \t True\n",
            "21 \t bat-12_a2.png \t bat \t bat \t True\n",
            "22 \t apple-14_a4.png \t apple \t apple \t True\n",
            "23 \t beetle-1_a3.png \t beetle \t beetle \t True\n",
            "24 \t bell-8_a1.png \t bell \t bell \t True\n",
            "25 \t Bone-5_a3.png \t bone \t bat \t False\n",
            "26 \t bell-3_a4.png \t bell \t bell \t True\n",
            "27 \t beetle-3_a5.png \t beetle \t beetle \t True\n",
            "28 \t apple-16_a3.png \t apple \t apple \t True\n",
            "29 \t Bone-19_a4.png \t bone \t bone \t True\n",
            "30 \t bell-19_a1.png \t bell \t bell \t True\n",
            "31 \t Bone-11_a5.png \t bone \t bat \t False\n",
            "32 \t beetle-10_a3.png \t beetle \t beetle \t True\n",
            "33 \t beetle-13_a5.png \t beetle \t beetle \t True\n",
            "34 \t bird-5_a1.png \t bird \t beetle \t False\n",
            "35 \t bird-8_a2.png \t bird \t bone \t False\n",
            "36 \t beetle-7_a5.png \t beetle \t beetle \t True\n",
            "37 \t bell-18_a4.png \t bell \t bell \t True\n",
            "38 \t apple-12_a5.png \t apple \t apple \t True\n",
            "39 \t bell-19_a3.png \t bell \t bell \t True\n",
            "40 \t apple-4_a5.png \t apple \t apple \t True\n",
            "41 \t bell-14_a4.png \t bell \t apple \t False\n",
            "42 \t bird-11_a3.png \t bird \t bird \t True\n",
            "43 \t bat-16_a4.png \t bat \t bird \t False\n",
            "44 \t bell-20_a4.png \t bell \t bell \t True\n",
            "45 \t bat-16_a3.png \t bat \t bone \t False\n",
            "46 \t beetle-9_a4.png \t beetle \t beetle \t True\n",
            "47 \t apple-6_a3.png \t apple \t apple \t True\n",
            "48 \t bat-2_a2.png \t bat \t bone \t False\n",
            "49 \t bell-13_a4.png \t bell \t bell \t True\n",
            "50 \t apple-14_a2.png \t apple \t apple \t True\n",
            "51 \t bell-10_a4.png \t bell \t apple \t False\n",
            "52 \t bat-12_a4.png \t bat \t bone \t False\n",
            "53 \t bird-10_a1.png \t bird \t bat \t False\n",
            "54 \t apple-10_a3.png \t apple \t apple \t True\n",
            "55 \t apple-5_a1.png \t apple \t apple \t True\n",
            "56 \t apple-18_a2.png \t apple \t apple \t True\n",
            "57 \t bell-5_a1.png \t bell \t bell \t True\n",
            "58 \t beetle-13_a4.png \t beetle \t beetle \t True\n",
            "59 \t bird-20_a5.png \t bird \t bone \t False\n",
            "60 \t apple-14_a1.png \t apple \t apple \t True\n",
            "61 \t bell-9_a3.png \t bell \t bell \t True\n",
            "62 \t beetle-4_a5.png \t beetle \t beetle \t True\n",
            "63 \t bat-8_a5.png \t bat \t bird \t False\n",
            "64 \t beetle-10_a1.png \t beetle \t beetle \t True\n",
            "65 \t bird-11_a4.png \t bird \t bird \t True\n",
            "66 \t beetle-3_a3.png \t beetle \t beetle \t True\n",
            "67 \t bat-11_a2.png \t bat \t bone \t False\n",
            "68 \t bell-11_a1.png \t bell \t apple \t False\n",
            "69 \t Bone-17_a1.png \t bone \t bird \t False\n",
            "70 \t bell-15_a5.png \t bell \t apple \t False\n",
            "71 \t bell-1_a4.png \t bell \t bell \t True\n",
            "72 \t bird-12_a3.png \t bird \t bat \t False\n",
            "73 \t bell-2_a4.png \t bell \t bell \t True\n",
            "74 \t bat-10_a5.png \t bat \t bone \t False\n",
            "75 \t beetle-8_a2.png \t beetle \t beetle \t True\n",
            "76 \t Bone-3_a3.png \t bone \t bone \t True\n",
            "77 \t beetle-18_a4.png \t beetle \t beetle \t True\n",
            "78 \t bat-9_a3.png \t bat \t bat \t True\n",
            "79 \t bat-18_a1.png \t bat \t bird \t False\n",
            "80 \t bird-14_a3.png \t bird \t bat \t False\n",
            "81 \t apple-8_a2.png \t apple \t apple \t True\n",
            "82 \t bell-1_a1.png \t bell \t bat \t False\n",
            "83 \t apple-5_a5.png \t apple \t apple \t True\n",
            "84 \t bell-14_a2.png \t bell \t apple \t False\n",
            "85 \t Bone-15_a4.png \t bone \t bat \t False\n",
            "86 \t bird-1_a3.png \t bird \t bat \t False\n",
            "87 \t bat-9_a2.png \t bat \t bone \t False\n",
            "88 \t Bone-10_a2.png \t bone \t bird \t False\n",
            "89 \t beetle-1_a5.png \t beetle \t beetle \t True\n",
            "90 \t apple-8_a3.png \t apple \t apple \t True\n",
            "91 \t bat-4_a3.png \t bat \t bird \t False\n",
            "92 \t apple-8_a5.png \t apple \t apple \t True\n",
            "93 \t bat-12_a5.png \t bat \t bone \t False\n",
            "94 \t bell-17_a2.png \t bell \t bell \t True\n",
            "95 \t bird-1_a5.png \t bird \t bat \t False\n",
            "96 \t bat-10_a3.png \t bat \t bone \t False\n",
            "97 \t bird-15_a5.png \t bird \t bird \t True\n",
            "98 \t Bone-4_a3.png \t bone \t bone \t True\n",
            "99 \t bell-16_a5.png \t bell \t apple \t False\n",
            "100 \t bird-7_a1.png \t bird \t bird \t True\n",
            "101 \t bird-12_a2.png \t bird \t bat \t False\n",
            "102 \t bat-6_a1.png \t bat \t bat \t True\n",
            "103 \t bird-13_a1.png \t bird \t bat \t False\n",
            "104 \t Bone-4_a4.png \t bone \t bone \t True\n",
            "105 \t Bone-8_a5.png \t bone \t bat \t False\n",
            "106 \t beetle-16_a2.png \t beetle \t bone \t False\n",
            "107 \t beetle-17_a1.png \t beetle \t beetle \t True\n",
            "108 \t bird-4_a4.png \t bird \t bat \t False\n",
            "109 \t apple-17_a3.png \t apple \t apple \t True\n",
            "110 \t bird-20_a3.png \t bird \t bat \t False\n",
            "111 \t apple-6_a5.png \t apple \t apple \t True\n",
            "112 \t bell-15_a3.png \t bell \t bell \t True\n",
            "113 \t bat-19_a3.png \t bat \t bat \t True\n",
            "114 \t beetle-9_a1.png \t beetle \t beetle \t True\n",
            "115 \t Bone-2_a4.png \t bone \t bone \t True\n",
            "116 \t Bone-11_a2.png \t bone \t bone \t True\n",
            "117 \t Bone-16_a5.png \t bone \t bone \t True\n",
            "118 \t apple-20_a3.png \t apple \t apple \t True\n",
            "119 \t bird-17_a5.png \t bird \t bat \t False\n",
            "120 \t Bone-6_a3.png \t bone \t bat \t False\n",
            "121 \t bird-8_a4.png \t bird \t bone \t False\n",
            "122 \t apple-2_a4.png \t apple \t apple \t True\n",
            "123 \t apple-7_a3.png \t apple \t apple \t True\n",
            "124 \t beetle-13_a1.png \t beetle \t beetle \t True\n",
            "125 \t apple-4_a2.png \t apple \t bone \t False\n",
            "126 \t bat-17_a2.png \t bat \t bat \t True\n",
            "127 \t apple-2_a1.png \t apple \t apple \t True\n",
            "128 \t bat-10_a1.png \t bat \t bone \t False\n",
            "129 \t bell-17_a3.png \t bell \t bell \t True\n",
            "130 \t bell-7_a3.png \t bell \t bell \t True\n",
            "131 \t bird-2_a2.png \t bird \t apple \t False\n",
            "132 \t beetle-20_a1.png \t beetle \t beetle \t True\n",
            "133 \t beetle-4_a3.png \t beetle \t beetle \t True\n",
            "134 \t bird-1_a2.png \t bird \t bird \t True\n",
            "135 \t Bone-19_a1.png \t bone \t bat \t False\n",
            "136 \t bird-13_a4.png \t bird \t bird \t True\n",
            "137 \t Bone-8_a4.png \t bone \t bone \t True\n",
            "138 \t bell-14_a1.png \t bell \t apple \t False\n",
            "139 \t bat-9_a1.png \t bat \t bone \t False\n",
            "140 \t Bone-2_a2.png \t bone \t bone \t True\n",
            "141 \t bell-7_a1.png \t bell \t bell \t True\n",
            "142 \t Bone-17_a2.png \t bone \t bone \t True\n",
            "143 \t beetle-17_a3.png \t beetle \t beetle \t True\n",
            "144 \t bird-16_a4.png \t bird \t bone \t False\n",
            "145 \t apple-9_a4.png \t apple \t apple \t True\n",
            "146 \t apple-20_a5.png \t apple \t apple \t True\n",
            "147 \t beetle-6_a1.png \t beetle \t beetle \t True\n",
            "148 \t beetle-10_a2.png \t beetle \t beetle \t True\n",
            "149 \t Bone-4_a5.png \t bone \t bat \t False\n",
            "150 \t Bone-16_a4.png \t bone \t bone \t True\n",
            "151 \t bat-5_a3.png \t bat \t bat \t True\n",
            "152 \t bat-15_a2.png \t bat \t bone \t False\n",
            "153 \t bell-15_a2.png \t bell \t apple \t False\n",
            "154 \t apple-10_a2.png \t apple \t apple \t True\n",
            "155 \t Bone-12_a2.png \t bone \t bone \t True\n",
            "156 \t bird-13_a2.png \t bird \t bell \t False\n",
            "157 \t beetle-20_a4.png \t beetle \t beetle \t True\n",
            "158 \t bird-2_a3.png \t bird \t bird \t True\n",
            "159 \t Bone-7_a2.png \t bone \t bone \t True\n",
            "160 \t Bone-14_a1.png \t bone \t bone \t True\n",
            "161 \t Bone-6_a1.png \t bone \t bat \t False\n",
            "162 \t bat-15_a3.png \t bat \t bat \t True\n",
            "163 \t bird-11_a1.png \t bird \t bone \t False\n",
            "164 \t Bone-14_a3.png \t bone \t bone \t True\n",
            "165 \t bird-19_a2.png \t bird \t bone \t False\n",
            "166 \t beetle-5_a2.png \t beetle \t beetle \t True\n",
            "167 \t apple-7_a2.png \t apple \t apple \t True\n",
            "168 \t bell-13_a2.png \t bell \t bell \t True\n",
            "169 \t Bone-20_a3.png \t bone \t bat \t False\n",
            "170 \t bird-6_a2.png \t bird \t bat \t False\n",
            "171 \t bat-11_a4.png \t bat \t bone \t False\n",
            "172 \t apple-15_a5.png \t apple \t apple \t True\n",
            "173 \t bell-2_a1.png \t bell \t bell \t True\n",
            "174 \t bat-19_a2.png \t bat \t bird \t False\n",
            "175 \t beetle-3_a4.png \t beetle \t beetle \t True\n",
            "176 \t bat-2_a5.png \t bat \t bone \t False\n",
            "177 \t bird-3_a3.png \t bird \t bird \t True\n",
            "178 \t beetle-9_a2.png \t beetle \t beetle \t True\n",
            "179 \t bat-18_a4.png \t bat \t bat \t True\n"
          ]
        }
      ]
    },
    {
      "cell_type": "markdown",
      "source": [
        "Classificador SVM com HOG"
      ],
      "metadata": {
        "id": "gcfwltmEjQQZ"
      }
    },
    {
      "cell_type": "code",
      "source": [
        "from skimage.feature import hog\n",
        "from skimage.transform import resize\n",
        "from skimage.color import rgb2gray\n",
        "from sklearn.svm import SVC\n",
        "from sklearn.model_selection import train_test_split\n",
        "from sklearn.metrics import classification_report, accuracy_score\n",
        "import numpy as np\n",
        "\n",
        "# Inicializar listas para características e rótulos\n",
        "X = []  # Lista para características\n",
        "y = []  # Lista para rótulos\n",
        "\n",
        "for image, label in zip(image_list, label_list):  # Iterar pelas imagens e rótulos\n",
        "    # Redimensionar a imagem para tamanho fixo\n",
        "    resized_image = resize(image, (128, 128))  # Ajustar para (128x128) ou outra dimensão necessária\n",
        "\n",
        "    # Verificar se a imagem é colorida (3 dimensões) ou já está em escala de cinza (2 dimensões)\n",
        "    if resized_image.ndim == 3 and resized_image.shape[-1] == 3:\n",
        "        # Converter para escala de cinza se a imagem for colorida\n",
        "        gray_image = rgb2gray(resized_image)\n",
        "    else:\n",
        "        # Usar diretamente se a imagem já estiver em escala de cinza\n",
        "        gray_image = resized_image\n",
        "\n",
        "    # Extrair características HOG\n",
        "    features = hog(\n",
        "        gray_image,  # Usar imagem em escala de cinza\n",
        "        orientations=9,\n",
        "        pixels_per_cell=(8, 8),\n",
        "        cells_per_block=(2, 2),\n",
        "        block_norm='L2-Hys',\n",
        "        visualize=False  # Não precisa visualizar agora\n",
        "    )\n",
        "\n",
        "    # Adicionar as características e o rótulo\n",
        "    X.append(features)\n",
        "    y.append(label)\n",
        "\n",
        "# Converter listas para arrays NumPy\n",
        "X = np.array(X)\n",
        "y = np.array(y)\n",
        "\n",
        "# Verificar os formatos\n",
        "print(\"Tamanho de X:\", X.shape)\n",
        "print(\"Tamanho de y:\", y.shape)\n",
        "\n",
        "# Dividir o dataset em treino e teste\n",
        "X_train, X_test, y_train, y_test = train_test_split(X, y, test_size=0.3, random_state=42)\n",
        "\n",
        "# Treinar o classificador SVM\n",
        "svm_model = SVC(kernel='linear', random_state=42)\n",
        "svm_model.fit(X_train, y_train)\n",
        "\n",
        "# Avaliar o modelo\n",
        "y_pred = svm_model.predict(X_test)\n",
        "print(\"Acurácia do SVM:\", accuracy_score(y_test, y_pred))\n",
        "print(\"\\nRelatório de Classificação:\")\n",
        "print(classification_report(y_test, y_pred))\n"
      ],
      "metadata": {
        "colab": {
          "base_uri": "https://localhost:8080/"
        },
        "id": "QoGtwQ1ojTC_",
        "outputId": "2fc18f7b-962b-4eb1-fd99-6d9723a4f9d7"
      },
      "execution_count": null,
      "outputs": [
        {
          "output_type": "stream",
          "name": "stdout",
          "text": [
            "Tamanho de X: (600, 8100)\n",
            "Tamanho de y: (600,)\n",
            "Acurácia do SVM: 0.8833333333333333\n",
            "\n",
            "Relatório de Classificação:\n",
            "              precision    recall  f1-score   support\n",
            "\n",
            "       apple       0.97      0.97      0.97        38\n",
            "         bat       0.77      0.83      0.80        24\n",
            "      beetle       0.90      0.93      0.92        29\n",
            "        bell       0.88      0.85      0.86        33\n",
            "        bird       0.85      0.74      0.79        31\n",
            "        bone       0.89      0.96      0.92        25\n",
            "\n",
            "    accuracy                           0.88       180\n",
            "   macro avg       0.88      0.88      0.88       180\n",
            "weighted avg       0.88      0.88      0.88       180\n",
            "\n"
          ]
        }
      ]
    }
  ]
}